{
 "cells": [
  {
   "cell_type": "code",
   "execution_count": 34,
   "id": "eeab0ee4-bb5f-4246-8453-504612f3aace",
   "metadata": {},
   "outputs": [
    {
     "data": {
      "text/plain": [
       "True"
      ]
     },
     "execution_count": 34,
     "metadata": {},
     "output_type": "execute_result"
    }
   ],
   "source": [
    "import pandas as pd\n",
    "import os\n",
    "import warnings\n",
    "import requests\n",
    "import time\n",
    "import json\n",
    "from dotenv import load_dotenv\n",
    "import logging\n",
    "warnings.filterwarnings('ignore')\n",
    "\n",
    "logging.basicConfig(level=logging.INFO, format='%(asctime)s - %(levelname)s - %(message)s')\n",
    "logger = logging.getLogger(__name__)\n",
    "\n",
    "# Load Environment variables\n",
    "load_dotenv()"
   ]
  },
  {
   "cell_type": "code",
   "execution_count": 3,
   "id": "d4af9020-6eb9-43b0-81b8-a1b4cd9c55ad",
   "metadata": {},
   "outputs": [
    {
     "name": "stderr",
     "output_type": "stream",
     "text": [
      "2025-02-26 17:03:42,496 - INFO - Starting data retrieval for product: Phone\n",
      "2025-02-26 17:05:15,619 - INFO - Starting data retrieval for product: Tablet\n",
      "2025-02-26 17:06:49,311 - INFO - Starting data retrieval for product: Headphones & Earphones\n"
     ]
    }
   ],
   "source": [
    "# The 'APIConnection' class manages the connection to the e-commerce API using HTTP requests via Python's 'requests' package\n",
    "\n",
    "# Configuration for API\n",
    "path = os.path.dirname(os.getcwd())\n",
    "with open(os.path.join(path,'config.json')) as config_file:\n",
    "    config = json.load(config_file)\n",
    "            \n",
    "class APIConnection:\n",
    "    \"\"\"\n",
    "    Handles the Real-Time API connection and fetches product information.\n",
    "    \"\"\"\n",
    "    def __init__(self, product, total_pages=None, url=None, headers=None):\n",
    "        self.headers = headers or {\"x-rapidapi-key\": os.getenv(\"API_KEY\"), \"x-rapidapi-host\": os.getenv(\"API_HOST\")} \n",
    "        self.url = url or config.get('url')\n",
    "        self.total_pages = total_pages if (total_pages and total_pages >= 1) else config.get('total_pages',1) \n",
    "        self.params = config['Product'].get(product) \n",
    "\n",
    "    def request(self, page):\n",
    "        try:\n",
    "            self.params['page'] = page\n",
    "            response = requests.get(url=self.url, headers=self.headers, params=self.params)\n",
    "            response.raise_for_status()\n",
    "            return response.json()\n",
    "        except requests.exceptions.JSONDecodeError as err:\n",
    "            logger.error(f\"Parsing JSON error: {err} on page {page}\")\n",
    "            return None\n",
    "        except requests.exceptions.RequestException as err:\n",
    "            logger.error(f\"An unexpected error occurred: {err} on page {page}\")\n",
    "            return None\n",
    "\n",
    "    def parse_data(self):\n",
    "        data = []\n",
    "        for page in range(1, self.total_pages + 1):\n",
    "            response = self.request(page)\n",
    "            if response:\n",
    "                response = response.get('data', {}).get('products')\n",
    "                if isinstance(response,list):\n",
    "                    data.extend(response)\n",
    "                    time.sleep(3)\n",
    "                else:\n",
    "                    logger.error(f\"Invalid Response on page {page}\")\n",
    "\n",
    "            else:\n",
    "                logger.error(f\"Failed to retrieve data on page {page}\")\n",
    "        return data\n",
    "\n",
    "\n",
    "# Initialise API Connection and parse data\n",
    "all_data = []\n",
    "for product in config['Product'].keys():\n",
    "    logger.info(f\"Starting data retrieval for product: {product}\")\n",
    "    api_conn = APIConnection(product)\n",
    "    data = api_conn.parse_data()\n",
    "\n",
    "    for item in data:\n",
    "        item['Product'] = product\n",
    "        all_data.append(item)\n",
    "\n",
    "# Convert the aggregated product data into a DataFrame\n",
    "logger.info(\"Completed data retrieval for all product types\")\n",
    "df = pd.DataFrame(all_data)"
   ]
  },
  {
   "cell_type": "code",
   "execution_count": 21,
   "id": "cceb344c-7910-4dfe-bc70-71eac364c7d8",
   "metadata": {},
   "outputs": [],
   "source": [
    "# Export raw data to CSV\n",
    "data_path = os.path.join(os.path.dirname(os.getcwd()), 'data')\n",
    "df.to_csv(os.path.join(data_path,'raw_data.csv'))"
   ]
  }
 ],
 "metadata": {
  "kernelspec": {
   "display_name": "Python [conda env:base] *",
   "language": "python",
   "name": "conda-base-py"
  },
  "language_info": {
   "codemirror_mode": {
    "name": "ipython",
    "version": 3
   },
   "file_extension": ".py",
   "mimetype": "text/x-python",
   "name": "python",
   "nbconvert_exporter": "python",
   "pygments_lexer": "ipython3",
   "version": "3.12.7"
  }
 },
 "nbformat": 4,
 "nbformat_minor": 5
}
